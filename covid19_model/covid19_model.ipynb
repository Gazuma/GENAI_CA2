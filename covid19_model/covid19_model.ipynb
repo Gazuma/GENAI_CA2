{
 "cells": [
  {
   "cell_type": "code",
   "execution_count": 10,
   "metadata": {},
   "outputs": [],
   "source": [
    "import pandas as pd\n",
    "import numpy as np"
   ]
  },
  {
   "cell_type": "code",
   "execution_count": 11,
   "metadata": {},
   "outputs": [],
   "source": [
    "num_samples = 100\n",
    "np.random.seed(0)  # For reproducibility\n",
    "fever = np.random.uniform(80, 120, num_samples)\n",
    "cold = np.random.uniform(0, 100, num_samples)\n",
    "shivering = np.random.uniform(0, 100, num_samples)\n",
    "weight_loss = np.random.uniform(0, 100, num_samples)\n",
    "\n",
    "data = pd.DataFrame({\n",
    "    'Fever': fever,\n",
    "    'Cold': cold,\n",
    "    'Shivering': shivering,\n",
    "    'Weight Loss': weight_loss\n",
    "})"
   ]
  },
  {
   "cell_type": "code",
   "execution_count": 12,
   "metadata": {},
   "outputs": [],
   "source": [
    "bins = [-1, 20, 40, 60, 80, 100]  \n",
    "labels = ['no', 'low', 'medium', 'high', 'very high'] \n",
    "\n",
    "data['Cold'] = pd.cut(data['Cold'], bins=bins, labels=labels)\n",
    "data['Shivering'] = pd.cut(data['Shivering'], bins=bins, labels=labels)"
   ]
  },
  {
   "cell_type": "code",
   "execution_count": 13,
   "metadata": {},
   "outputs": [
    {
     "name": "stdout",
     "output_type": "stream",
     "text": [
      "Data sorted according to parameter Cold and stored in results.xlsx\n"
     ]
    }
   ],
   "source": [
    "def sort_data_by_parameter(parameter):\n",
    "    return data.sort_values(by = [parameter])\n",
    "\n",
    "file_path_sorted = 'result.xlsx'\n",
    "parameter = input(\"Enter the parameter :\")\n",
    "sorted_data = sort_data_by_parameter(parameter)\n",
    "sorted_data.to_excel(file_path_sorted,index=False)\n",
    "print(f'Data sorted according to parameter {parameter} and stored in results.xlsx')"
   ]
  }
 ],
 "metadata": {
  "kernelspec": {
   "display_name": "base",
   "language": "python",
   "name": "python3"
  },
  "language_info": {
   "codemirror_mode": {
    "name": "ipython",
    "version": 3
   },
   "file_extension": ".py",
   "mimetype": "text/x-python",
   "name": "python",
   "nbconvert_exporter": "python",
   "pygments_lexer": "ipython3",
   "version": "3.9.13"
  }
 },
 "nbformat": 4,
 "nbformat_minor": 2
}
